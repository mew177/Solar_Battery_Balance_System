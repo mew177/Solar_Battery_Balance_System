{
 "cells": [
  {
   "cell_type": "code",
   "execution_count": 5,
   "metadata": {},
   "outputs": [
    {
     "data": {
      "text/html": [
       "<div>\n",
       "<style scoped>\n",
       "    .dataframe tbody tr th:only-of-type {\n",
       "        vertical-align: middle;\n",
       "    }\n",
       "\n",
       "    .dataframe tbody tr th {\n",
       "        vertical-align: top;\n",
       "    }\n",
       "\n",
       "    .dataframe thead th {\n",
       "        text-align: right;\n",
       "    }\n",
       "</style>\n",
       "<table border=\"1\" class=\"dataframe\">\n",
       "  <thead>\n",
       "    <tr style=\"text-align: right;\">\n",
       "      <th></th>\n",
       "      <th>DateTime</th>\n",
       "      <th>grid</th>\n",
       "      <th>solar</th>\n",
       "    </tr>\n",
       "  </thead>\n",
       "  <tbody>\n",
       "    <tr>\n",
       "      <th>0</th>\n",
       "      <td>2018/11/1 0:00</td>\n",
       "      <td>0.606</td>\n",
       "      <td>-0.008</td>\n",
       "    </tr>\n",
       "    <tr>\n",
       "      <th>1</th>\n",
       "      <td>2018/11/1 0:15</td>\n",
       "      <td>0.689</td>\n",
       "      <td>-0.009</td>\n",
       "    </tr>\n",
       "    <tr>\n",
       "      <th>2</th>\n",
       "      <td>2018/11/1 0:30</td>\n",
       "      <td>0.721</td>\n",
       "      <td>-0.009</td>\n",
       "    </tr>\n",
       "    <tr>\n",
       "      <th>3</th>\n",
       "      <td>2018/11/1 0:45</td>\n",
       "      <td>0.725</td>\n",
       "      <td>-0.009</td>\n",
       "    </tr>\n",
       "    <tr>\n",
       "      <th>4</th>\n",
       "      <td>2018/11/1 1:00</td>\n",
       "      <td>0.553</td>\n",
       "      <td>-0.009</td>\n",
       "    </tr>\n",
       "  </tbody>\n",
       "</table>\n",
       "</div>"
      ],
      "text/plain": [
       "         DateTime   grid  solar\n",
       "0  2018/11/1 0:00  0.606 -0.008\n",
       "1  2018/11/1 0:15  0.689 -0.009\n",
       "2  2018/11/1 0:30  0.721 -0.009\n",
       "3  2018/11/1 0:45  0.725 -0.009\n",
       "4  2018/11/1 1:00  0.553 -0.009"
      ]
     },
     "execution_count": 5,
     "metadata": {},
     "output_type": "execute_result"
    }
   ],
   "source": [
    "import pandas as pd\n",
    "import matplotlib.pyplot as plt\n",
    "\n",
    "df = pd.read_csv('../Data/electricity/electricity_record.csv')\n",
    "df.head(5)"
   ]
  },
  {
   "cell_type": "code",
   "execution_count": 6,
   "metadata": {},
   "outputs": [],
   "source": [
    "df['year'] = ''\n",
    "df['month'] = ''\n",
    "df['date'] = ''\n",
    "df['day'] = ''\n",
    "day = 3\n",
    "date = '2018/11/1'\n",
    "\n",
    "for index, row in df.iterrows():\n",
    "    if date != row['DateTime'].split(' ')[0]:\n",
    "        date = row['DateTime'].split(' ')[0]\n",
    "        day += 1\n",
    "        day %= 7\n",
    "    y, m, d = df.at[index, 'DateTime'].split(' ')[0].split('/')\n",
    "    df.at[index, 'year'] = int(y)\n",
    "    df.at[index, 'month'] = int(m)\n",
    "    df.at[index, 'date'] = int(d)\n",
    "    df.at[index, 'day'] = day\n",
    "    \n",
    "df.drop(['DateTime'], axis=1, inplace=True)"
   ]
  },
  {
   "cell_type": "code",
   "execution_count": 7,
   "metadata": {
    "scrolled": false
   },
   "outputs": [
    {
     "data": {
      "text/html": [
       "<div>\n",
       "<style scoped>\n",
       "    .dataframe tbody tr th:only-of-type {\n",
       "        vertical-align: middle;\n",
       "    }\n",
       "\n",
       "    .dataframe tbody tr th {\n",
       "        vertical-align: top;\n",
       "    }\n",
       "\n",
       "    .dataframe thead th {\n",
       "        text-align: right;\n",
       "    }\n",
       "</style>\n",
       "<table border=\"1\" class=\"dataframe\">\n",
       "  <thead>\n",
       "    <tr style=\"text-align: right;\">\n",
       "      <th></th>\n",
       "      <th></th>\n",
       "      <th></th>\n",
       "      <th></th>\n",
       "      <th>grid</th>\n",
       "      <th>solar</th>\n",
       "    </tr>\n",
       "    <tr>\n",
       "      <th>year</th>\n",
       "      <th>month</th>\n",
       "      <th>date</th>\n",
       "      <th>day</th>\n",
       "      <th></th>\n",
       "      <th></th>\n",
       "    </tr>\n",
       "  </thead>\n",
       "  <tbody>\n",
       "    <tr>\n",
       "      <th rowspan=\"5\" valign=\"top\">2018</th>\n",
       "      <th rowspan=\"5\" valign=\"top\">11</th>\n",
       "      <th>1</th>\n",
       "      <th>3</th>\n",
       "      <td>-49.979</td>\n",
       "      <td>95.650</td>\n",
       "    </tr>\n",
       "    <tr>\n",
       "      <th>2</th>\n",
       "      <th>4</th>\n",
       "      <td>-49.865</td>\n",
       "      <td>94.453</td>\n",
       "    </tr>\n",
       "    <tr>\n",
       "      <th>3</th>\n",
       "      <th>5</th>\n",
       "      <td>-35.588</td>\n",
       "      <td>89.085</td>\n",
       "    </tr>\n",
       "    <tr>\n",
       "      <th>4</th>\n",
       "      <th>6</th>\n",
       "      <td>-35.213</td>\n",
       "      <td>86.703</td>\n",
       "    </tr>\n",
       "    <tr>\n",
       "      <th>5</th>\n",
       "      <th>0</th>\n",
       "      <td>-7.164</td>\n",
       "      <td>49.697</td>\n",
       "    </tr>\n",
       "  </tbody>\n",
       "</table>\n",
       "</div>"
      ],
      "text/plain": [
       "                       grid   solar\n",
       "year month date day                \n",
       "2018 11    1    3   -49.979  95.650\n",
       "           2    4   -49.865  94.453\n",
       "           3    5   -35.588  89.085\n",
       "           4    6   -35.213  86.703\n",
       "           5    0    -7.164  49.697"
      ]
     },
     "execution_count": 7,
     "metadata": {},
     "output_type": "execute_result"
    }
   ],
   "source": [
    "df = df.groupby(['year', 'month', 'date', 'day']).sum()\n",
    "df.head(5)"
   ]
  },
  {
   "cell_type": "code",
   "execution_count": 8,
   "metadata": {},
   "outputs": [
    {
     "data": {
      "text/html": [
       "<div>\n",
       "<style scoped>\n",
       "    .dataframe tbody tr th:only-of-type {\n",
       "        vertical-align: middle;\n",
       "    }\n",
       "\n",
       "    .dataframe tbody tr th {\n",
       "        vertical-align: top;\n",
       "    }\n",
       "\n",
       "    .dataframe thead th {\n",
       "        text-align: right;\n",
       "    }\n",
       "</style>\n",
       "<table border=\"1\" class=\"dataframe\">\n",
       "  <thead>\n",
       "    <tr style=\"text-align: right;\">\n",
       "      <th></th>\n",
       "      <th></th>\n",
       "      <th></th>\n",
       "      <th></th>\n",
       "      <th>grid</th>\n",
       "      <th>solar</th>\n",
       "      <th>demand</th>\n",
       "    </tr>\n",
       "    <tr>\n",
       "      <th>year</th>\n",
       "      <th>month</th>\n",
       "      <th>date</th>\n",
       "      <th>day</th>\n",
       "      <th></th>\n",
       "      <th></th>\n",
       "      <th></th>\n",
       "    </tr>\n",
       "  </thead>\n",
       "  <tbody>\n",
       "    <tr>\n",
       "      <th rowspan=\"5\" valign=\"top\">2018</th>\n",
       "      <th rowspan=\"5\" valign=\"top\">11</th>\n",
       "      <th>1</th>\n",
       "      <th>3</th>\n",
       "      <td>-49.979</td>\n",
       "      <td>95.650</td>\n",
       "      <td>45.671</td>\n",
       "    </tr>\n",
       "    <tr>\n",
       "      <th>2</th>\n",
       "      <th>4</th>\n",
       "      <td>-49.865</td>\n",
       "      <td>94.453</td>\n",
       "      <td>44.588</td>\n",
       "    </tr>\n",
       "    <tr>\n",
       "      <th>3</th>\n",
       "      <th>5</th>\n",
       "      <td>-35.588</td>\n",
       "      <td>89.085</td>\n",
       "      <td>53.497</td>\n",
       "    </tr>\n",
       "    <tr>\n",
       "      <th>4</th>\n",
       "      <th>6</th>\n",
       "      <td>-35.213</td>\n",
       "      <td>86.703</td>\n",
       "      <td>51.49</td>\n",
       "    </tr>\n",
       "    <tr>\n",
       "      <th>5</th>\n",
       "      <th>0</th>\n",
       "      <td>-7.164</td>\n",
       "      <td>49.697</td>\n",
       "      <td>42.533</td>\n",
       "    </tr>\n",
       "  </tbody>\n",
       "</table>\n",
       "</div>"
      ],
      "text/plain": [
       "                       grid   solar  demand\n",
       "year month date day                        \n",
       "2018 11    1    3   -49.979  95.650  45.671\n",
       "           2    4   -49.865  94.453  44.588\n",
       "           3    5   -35.588  89.085  53.497\n",
       "           4    6   -35.213  86.703   51.49\n",
       "           5    0    -7.164  49.697  42.533"
      ]
     },
     "execution_count": 8,
     "metadata": {},
     "output_type": "execute_result"
    }
   ],
   "source": [
    "df['demand'] = ''\n",
    "\n",
    "for index, row in df.iterrows():\n",
    "    df.at[index, 'demand'] = (df.at[index, 'grid'] + df.at[index, 'solar'])\n",
    "df.head(5)"
   ]
  },
  {
   "cell_type": "code",
   "execution_count": 35,
   "metadata": {},
   "outputs": [
    {
     "data": {
      "image/png": "[encoded data removed]",
      "text/plain": [
       "<Figure size 432x288 with 1 Axes>"
      ]
     },
     "metadata": {},
     "output_type": "display_data"
    }
   ],
   "source": [
    "_, _, _, d = zip(*df.index.values)\n",
    "\n",
    "maxDemand = df.groupby(['day'])['demand'].apply(max)\n",
    "minDemand = df.groupby(['day'])['demand'].apply(min)\n",
    "meanDemand = df.groupby(['day'])['demand'].apply(lambda x: sum(x)/len(x))\n",
    "\n",
    "plt.figure(figsize=(6, 4))\n",
    "X = ['Mon.', 'Tue.', 'Wed.', 'Thu.', 'Fri.', 'Sat.', 'Sun.']\n",
    "plt.scatter(d, df['demand'], color='gray')\n",
    "plt.scatter(X, maxDemand, color='green', label='max')\n",
    "plt.scatter(X, minDemand, color='blue', label='min')\n",
    "plt.scatter(X, meanDemand, color='red', label='mean')\n",
    "plt.ylabel('demand')\n",
    "#plt.legend()\n",
    "plt.show()"
   ]
  },
  {
   "cell_type": "code",
   "execution_count": 36,
   "metadata": {},
   "outputs": [
    {
     "data": {
      "image/png": "[encoded data removed]",
      "text/plain": [
       "<Figure size 432x288 with 1 Axes>"
      ]
     },
     "metadata": {},
     "output_type": "display_data"
    }
   ],
   "source": [
    "monthly_mean = df.groupby(['month'])['demand'].apply(lambda x: sum(x)/len(x))\n",
    "\n",
    "plt.figure(figsize=(6, 4))\n",
    "plt.bar([i for i in range(1, 13)], monthly_mean, label='demand')\n",
    "plt.xticks([i for i in range(1, 13)])\n",
    "plt.ylabel('demand')\n",
    "plt.xlabel('month')\n",
    "plt.show()"
   ]
  },
  {
   "cell_type": "code",
   "execution_count": 11,
   "metadata": {},
   "outputs": [],
   "source": [
    "from sklearn.linear_model import LinearRegression\n",
    "from sklearn.model_selection import train_test_split\n",
    "\n",
    "def base_mean(month, day, month_mean, day_mean):\n",
    "    return month_mean[month], day_mean[day]\n",
    "\n",
    "_, month, _, day = zip(*df.index.values)\n",
    "month_base, day_base = zip(*[base_mean(index[1], index[3], monthly_mean, meanDemand) for index, row in df.iterrows()])\n",
    "data = list(map(lambda x: list(x), zip(month, day, month_base, day_base)))\n",
    "trainX, testX, trainY, testY = train_test_split(data, list(df[['demand']].demand), test_size=0.8)\n",
    "reg = LinearRegression().fit(trainX, trainY)"
   ]
  },
  {
   "cell_type": "code",
   "execution_count": 12,
   "metadata": {},
   "outputs": [],
   "source": [
    "from utils.demandPredictor import *\n",
    "\n",
    "model = demandPredictor()\n",
    "model.train(test_size=0.3)"
   ]
  },
  {
   "cell_type": "code",
   "execution_count": 13,
   "metadata": {},
   "outputs": [
    {
     "data": {
      "text/plain": [
       "array([134.71256955])"
      ]
     },
     "execution_count": 13,
     "metadata": {},
     "output_type": "execute_result"
    }
   ],
   "source": [
    "model.predict([7, 6])"
   ]
  },
  {
   "cell_type": "code",
   "execution_count": 25,
   "metadata": {},
   "outputs": [
    {
     "data": {
      "text/plain": [
       "73"
      ]
     },
     "execution_count": 25,
     "metadata": {},
     "output_type": "execute_result"
    }
   ],
   "source": [
    "len(trainX)"
   ]
  },
  {
   "cell_type": "code",
   "execution_count": 22,
   "metadata": {},
   "outputs": [
    {
     "data": {
      "text/html": [
       "<div>\n",
       "<style scoped>\n",
       "    .dataframe tbody tr th:only-of-type {\n",
       "        vertical-align: middle;\n",
       "    }\n",
       "\n",
       "    .dataframe tbody tr th {\n",
       "        vertical-align: top;\n",
       "    }\n",
       "\n",
       "    .dataframe thead th {\n",
       "        text-align: right;\n",
       "    }\n",
       "</style>\n",
       "<table border=\"1\" class=\"dataframe\">\n",
       "  <thead>\n",
       "    <tr style=\"text-align: right;\">\n",
       "      <th></th>\n",
       "      <th>Date</th>\n",
       "      <th>MaxTemperature</th>\n",
       "      <th>AvgTemperature</th>\n",
       "      <th>MinTemperature</th>\n",
       "      <th>MaxDew</th>\n",
       "      <th>AvgDew</th>\n",
       "      <th>MinDew</th>\n",
       "      <th>MaxHumidity</th>\n",
       "      <th>AvgHumidity</th>\n",
       "      <th>MinHumidity</th>\n",
       "      <th>MaxWindspeed</th>\n",
       "      <th>AvgWindspeed</th>\n",
       "      <th>MinWindspeed</th>\n",
       "      <th>MaxPressure</th>\n",
       "      <th>AvgPressure</th>\n",
       "      <th>MinPressure</th>\n",
       "      <th>Precipitation</th>\n",
       "      <th>solar</th>\n",
       "    </tr>\n",
       "  </thead>\n",
       "  <tbody>\n",
       "    <tr>\n",
       "      <th>0</th>\n",
       "      <td>2018/11/1</td>\n",
       "      <td>69</td>\n",
       "      <td>58.6</td>\n",
       "      <td>48</td>\n",
       "      <td>56</td>\n",
       "      <td>44.4</td>\n",
       "      <td>38</td>\n",
       "      <td>89</td>\n",
       "      <td>62.7</td>\n",
       "      <td>33</td>\n",
       "      <td>16</td>\n",
       "      <td>8.5</td>\n",
       "      <td>0</td>\n",
       "      <td>29.5</td>\n",
       "      <td>29.4</td>\n",
       "      <td>29.3</td>\n",
       "      <td>0.57</td>\n",
       "      <td>95.650</td>\n",
       "    </tr>\n",
       "    <tr>\n",
       "      <th>1</th>\n",
       "      <td>2018/11/2</td>\n",
       "      <td>77</td>\n",
       "      <td>58.7</td>\n",
       "      <td>41</td>\n",
       "      <td>50</td>\n",
       "      <td>44.0</td>\n",
       "      <td>38</td>\n",
       "      <td>96</td>\n",
       "      <td>64.2</td>\n",
       "      <td>24</td>\n",
       "      <td>7</td>\n",
       "      <td>3.7</td>\n",
       "      <td>0</td>\n",
       "      <td>29.6</td>\n",
       "      <td>29.5</td>\n",
       "      <td>29.4</td>\n",
       "      <td>0.00</td>\n",
       "      <td>94.453</td>\n",
       "    </tr>\n",
       "    <tr>\n",
       "      <th>2</th>\n",
       "      <td>2018/11/3</td>\n",
       "      <td>78</td>\n",
       "      <td>64.1</td>\n",
       "      <td>48</td>\n",
       "      <td>61</td>\n",
       "      <td>53.5</td>\n",
       "      <td>45</td>\n",
       "      <td>93</td>\n",
       "      <td>70.9</td>\n",
       "      <td>45</td>\n",
       "      <td>22</td>\n",
       "      <td>10.5</td>\n",
       "      <td>0</td>\n",
       "      <td>29.4</td>\n",
       "      <td>29.4</td>\n",
       "      <td>29.3</td>\n",
       "      <td>0.00</td>\n",
       "      <td>89.085</td>\n",
       "    </tr>\n",
       "    <tr>\n",
       "      <th>3</th>\n",
       "      <td>2018/11/4</td>\n",
       "      <td>73</td>\n",
       "      <td>63.6</td>\n",
       "      <td>52</td>\n",
       "      <td>63</td>\n",
       "      <td>52.4</td>\n",
       "      <td>46</td>\n",
       "      <td>93</td>\n",
       "      <td>70.1</td>\n",
       "      <td>39</td>\n",
       "      <td>13</td>\n",
       "      <td>7.3</td>\n",
       "      <td>0</td>\n",
       "      <td>29.6</td>\n",
       "      <td>29.4</td>\n",
       "      <td>29.4</td>\n",
       "      <td>0.51</td>\n",
       "      <td>86.703</td>\n",
       "    </tr>\n",
       "    <tr>\n",
       "      <th>4</th>\n",
       "      <td>2018/11/5</td>\n",
       "      <td>79</td>\n",
       "      <td>67.0</td>\n",
       "      <td>52</td>\n",
       "      <td>67</td>\n",
       "      <td>62.3</td>\n",
       "      <td>49</td>\n",
       "      <td>97</td>\n",
       "      <td>85.7</td>\n",
       "      <td>66</td>\n",
       "      <td>21</td>\n",
       "      <td>8.5</td>\n",
       "      <td>0</td>\n",
       "      <td>29.4</td>\n",
       "      <td>29.3</td>\n",
       "      <td>29.2</td>\n",
       "      <td>0.00</td>\n",
       "      <td>49.697</td>\n",
       "    </tr>\n",
       "  </tbody>\n",
       "</table>\n",
       "</div>"
      ],
      "text/plain": [
       "        Date  MaxTemperature  AvgTemperature  MinTemperature  MaxDew  AvgDew  \\\n",
       "0  2018/11/1              69            58.6              48      56    44.4   \n",
       "1  2018/11/2              77            58.7              41      50    44.0   \n",
       "2  2018/11/3              78            64.1              48      61    53.5   \n",
       "3  2018/11/4              73            63.6              52      63    52.4   \n",
       "4  2018/11/5              79            67.0              52      67    62.3   \n",
       "\n",
       "   MinDew  MaxHumidity  AvgHumidity  MinHumidity  MaxWindspeed  AvgWindspeed  \\\n",
       "0      38           89         62.7           33            16           8.5   \n",
       "1      38           96         64.2           24             7           3.7   \n",
       "2      45           93         70.9           45            22          10.5   \n",
       "3      46           93         70.1           39            13           7.3   \n",
       "4      49           97         85.7           66            21           8.5   \n",
       "\n",
       "   MinWindspeed  MaxPressure  AvgPressure  MinPressure  Precipitation   solar  \n",
       "0             0         29.5         29.4         29.3           0.57  95.650  \n",
       "1             0         29.6         29.5         29.4           0.00  94.453  \n",
       "2             0         29.4         29.4         29.3           0.00  89.085  \n",
       "3             0         29.6         29.4         29.4           0.51  86.703  \n",
       "4             0         29.4         29.3         29.2           0.00  49.697  "
      ]
     },
     "execution_count": 22,
     "metadata": {},
     "output_type": "execute_result"
    }
   ],
   "source": [
    "wdf = pd.read_csv('../Data/weather/weather_record.csv')\n",
    "wdf['solar'] = df['solar'].values\n",
    "wdf.head(5)"
   ]
  },
  {
   "cell_type": "code",
   "execution_count": 25,
   "metadata": {},
   "outputs": [
    {
     "data": {
      "image/png": "[encoded data removed]",
      "text/plain": [
       "<Figure size 432x288 with 1 Axes>"
      ]
     },
     "metadata": {},
     "output_type": "display_data"
    }
   ],
   "source": [
    "plt.scatter(wdf['AvgTemperature'], wdf['solar'])\n",
    "plt.xlabel('Avg Temperature')\n",
    "plt.ylabel('Solar Production')\n",
    "plt.show()"
   ]
  },
  {
   "cell_type": "code",
   "execution_count": 26,
   "metadata": {},
   "outputs": [
    {
     "data": {
      "image/png": "[encoded data removed]",
      "text/plain": [
       "<Figure size 432x288 with 1 Axes>"
      ]
     },
     "metadata": {},
     "output_type": "display_data"
    }
   ],
   "source": [
    "plt.scatter(wdf['AvgDew'], wdf['solar'])\n",
    "plt.xlabel('Avg Dew')\n",
    "plt.ylabel('Solar Production')\n",
    "plt.show()"
   ]
  },
  {
   "cell_type": "code",
   "execution_count": 27,
   "metadata": {},
   "outputs": [
    {
     "data": {
      "image/png": "[encoded data removed]",
      "text/plain": [
       "<Figure size 432x288 with 1 Axes>"
      ]
     },
     "metadata": {},
     "output_type": "display_data"
    }
   ],
   "source": [
    "plt.scatter(wdf['AvgHumidity'], wdf['solar'])\n",
    "plt.xlabel('Avg Humidity')\n",
    "plt.ylabel('Solar Production')\n",
    "plt.show()"
   ]
  },
  {
   "cell_type": "code",
   "execution_count": 32,
   "metadata": {},
   "outputs": [
    {
     "data": {
      "image/png": "[encoded data removed]",
      "text/plain": [
       "<Figure size 432x288 with 1 Axes>"
      ]
     },
     "metadata": {},
     "output_type": "display_data"
    }
   ],
   "source": [
    "plt.scatter(wdf['AvgWindspeed'], wdf['solar'])\n",
    "plt.xlabel('Avg Windspeed')\n",
    "plt.ylabel('Solar Production')\n",
    "plt.show()"
   ]
  },
  {
   "cell_type": "code",
   "execution_count": 29,
   "metadata": {},
   "outputs": [
    {
     "data": {
      "image/png": "[encoded data removed]",
      "text/plain": [
       "<Figure size 432x288 with 1 Axes>"
      ]
     },
     "metadata": {},
     "output_type": "display_data"
    }
   ],
   "source": [
    "plt.scatter(wdf['Precipitation'], wdf['solar'])\n",
    "plt.xlabel('Precipitation')\n",
    "plt.ylabel('Solar Production')\n",
    "plt.show()"
   ]
  },
  {
   "cell_type": "code",
   "execution_count": null,
   "metadata": {},
   "outputs": [],
   "source": []
  }
 ],
 "metadata": {
  "kernelspec": {
   "display_name": "Python 3",
   "language": "python",
   "name": "python3"
  },
  "language_info": {
   "codemirror_mode": {
    "name": "ipython",
    "version": 3
   },
   "file_extension": ".py",
   "mimetype": "text/x-python",
   "name": "python",
   "nbconvert_exporter": "python",
   "pygments_lexer": "ipython3",
   "version": "3.6.4"
  }
 },
 "nbformat": 4,
 "nbformat_minor": 2
}
