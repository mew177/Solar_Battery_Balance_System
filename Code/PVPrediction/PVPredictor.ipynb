{
 "cells": [
  {
   "cell_type": "code",
   "execution_count": 41,
   "metadata": {
    "scrolled": true
   },
   "outputs": [],
   "source": [
    "import pandas as pd\n",
    "from sklearn.model_selection import train_test_split\n",
    "from sklearn.linear_model import LinearRegression\n",
    "from sklearn import preprocessing\n",
    "\n",
    "class PVPredictor:\n",
    "    \n",
    "    def __init__(self):\n",
    "        # linear regression model\n",
    "        self.model = LinearRegression()\n",
    "        \n",
    "    def preprocess(self, weather_record, electricity_record):\n",
    "        weather_raw = pd.read_csv(weather_record)\n",
    "        electricity_raw = pd.read_csv(electricity_record)\n",
    "        \n",
    "        # accumulate solar production within a day\n",
    "        date = '0000-00-00 00:00:00'\n",
    "        accumulated_solar = 0.\n",
    "        accumulated_solar_records = []\n",
    "        for index, row in electricity_raw.iterrows():\n",
    "            if date != row['DateTime'].split(' ')[0]:\n",
    "                accumulated_solar_records.append(int(accumulated_solar))\n",
    "                date = row['DateTime'].split(' ')[0]\n",
    "                accumulated_solar = 0\n",
    "            accumulated_solar += row['solar']\n",
    "        accumulated_solar_records.append(int(accumulated_solar))\n",
    "        # eliminate first record\n",
    "        self.solar_records = pd.DataFrame(data=accumulated_solar_records[1:],    # values\n",
    "                                     index=[i+1 for i in range(len(accumulated_solar_records)-1)],    # 1st column as index\n",
    "                                     columns=['Solar'])  # 1st row as the column names\n",
    "        \n",
    "        # eliminate useless data\n",
    "        self.weather_records = weather_raw[['MaxTemperature', 'AvgTemperature', 'MinTemperature', 'MaxHumidity', 'AvgHumidity', 'MinHumidity', 'MaxWindspeed', 'AvgWindspeed', 'MinWindspeed', 'Precipitation']]\n",
    "        \n",
    "        # normalization\n",
    "        self.weather_records = preprocessing.scale(self.weather_records)\n",
    "        \n",
    "        print(\"Finish preprocessing\")\n",
    "        print(\"weather record size: \", self.weather_records.shape)\n",
    "        print(\"solar record size: \", self.solar_records.shape)\n",
    "\n",
    "    def train(self, weather_record, electricity_record):\n",
    "        self.preprocess(weather_record, electricity_record)\n",
    "        train_X, test_X, train_y, test_y = train_test_split(self.weather_records[:], self.solar_records[:], train_size=0.8)\n",
    "        \n",
    "        print('Train X size: ', train_X.shape)\n",
    "        print('Train y size: ', train_y.shape)\n",
    "        print('Test X size: ', test_X.shape)\n",
    "        print('Test y size: ', test_y.shape)\n",
    "        \n",
    "        self.model.fit(train_X, train_y)\n",
    "        print(\"Score: \", self.model.score(test_X, test_y))\n",
    "        print(\"Finish training\\n\")\n",
    "        \n",
    "    def predict(self, input_weather):\n",
    "        input_weather = preprocessing.scale(input_weather)\n",
    "        return self.model.predict([input_weather])[0]"
   ]
  },
  {
   "cell_type": "code",
   "execution_count": 44,
   "metadata": {},
   "outputs": [
    {
     "name": "stdout",
     "output_type": "stream",
     "text": [
      "Finish preprocessing\n",
      "weather record size:  (304, 10)\n",
      "solar record size:  (304, 1)\n",
      "Train X size:  (243, 10)\n",
      "Train y size:  (243, 1)\n",
      "Test X size:  (61, 10)\n",
      "Test y size:  (61, 1)\n",
      "Score:  0.7202315503237757\n",
      "Finish training\n",
      "\n"
     ]
    },
    {
     "name": "stderr",
     "output_type": "stream",
     "text": [
      "/Users/Rycemond/anaconda3/lib/python3.6/site-packages/sklearn/model_selection/_split.py:2026: FutureWarning: From version 0.21, test_size will always complement train_size unless both are specified.\n",
      "  FutureWarning)\n"
     ]
    }
   ],
   "source": [
    "weather_record = '../../data/weather/weather_record.csv'\n",
    "electricity_record = '../../data/electricity/electricity_record.csv'\n",
    "\n",
    "pvPredictor = PVPredictor()\n",
    "pvPredictor.train(weather_record, electricity_record)\n",
    "\n"
   ]
  },
  {
   "cell_type": "code",
   "execution_count": 14,
   "metadata": {},
   "outputs": [
    {
     "data": {
      "text/plain": [
       "[1, 2]"
      ]
     },
     "execution_count": 14,
     "metadata": {},
     "output_type": "execute_result"
    }
   ],
   "source": []
  },
  {
   "cell_type": "code",
   "execution_count": null,
   "metadata": {},
   "outputs": [],
   "source": []
  }
 ],
 "metadata": {
  "kernelspec": {
   "display_name": "Python 3",
   "language": "python",
   "name": "python3"
  },
  "language_info": {
   "codemirror_mode": {
    "name": "ipython",
    "version": 3
   },
   "file_extension": ".py",
   "mimetype": "text/x-python",
   "name": "python",
   "nbconvert_exporter": "python",
   "pygments_lexer": "ipython3",
   "version": "3.6.4"
  }
 },
 "nbformat": 4,
 "nbformat_minor": 2
}
